{
 "cells": [
  {
   "cell_type": "code",
   "execution_count": 3,
   "metadata": {},
   "outputs": [],
   "source": [
    "import librosa\n",
    "import numpy as np\n",
    "import matplotlib.pyplot as plt\n",
    "import os\n",
    "from PIL import Image\n",
    "import pathlib\n",
    "cmap = plt.get_cmap('inferno')"
   ]
  },
  {
   "cell_type": "code",
   "execution_count": null,
   "metadata": {},
   "outputs": [],
   "source": [
    "\n"
   ]
  },
  {
   "cell_type": "code",
   "execution_count": 4,
   "metadata": {
    "scrolled": true
   },
   "outputs": [
    {
     "name": "stdout",
     "output_type": "stream",
     "text": [
      "filtered90s2 done!\n"
     ]
    },
    {
     "data": {
      "text/plain": [
       "<Figure size 720x720 with 0 Axes>"
      ]
     },
     "metadata": {},
     "output_type": "display_data"
    }
   ],
   "source": [
    "plt.figure(figsize=(10,10))\n",
    "genres = ['filtered90s2']\n",
    "for g in genres:\n",
    "    pathlib.Path(f'C:/projects/song_era_detection/audio_data_set/dataset/{g}').mkdir(parents=True, exist_ok=True)     \n",
    "    for filename in os.listdir(f'C:/projects/song_era_detection/audio_data_set/dataset/{g}'):\n",
    "        songname = f'C:/projects/song_era_detection/audio_data_set/dataset/{g}/{filename}'\n",
    "        print(songname)\n",
    "        y, sr = librosa.load(songname, mono=True, duration=30)\n",
    "        plt.specgram(y, NFFT=2048, Fs=2,cmap=cmap, sides='default', mode='default', scale='dB');\n",
    "        plt.axis('off');\n",
    "        plt.savefig(f'C:/projects/song_era_detection/audio_data_set/dataset/dataset_spectrogram/{g}/{filename[:].replace(\".\", \"\")}.png')\n",
    "        plt.clf()\n",
    "    print(f'{g} done!')\n",
    "    \n"
   ]
  },
  {
   "cell_type": "code",
   "execution_count": 11,
   "metadata": {},
   "outputs": [
    {
     "name": "stdout",
     "output_type": "stream",
     "text": [
      "C:/projects/song_era_detection/audio_data_set/dataset/filtered10s/2010's 1.wav\n"
     ]
    },
    {
     "data": {
      "text/plain": [
       "<Figure size 432x288 with 0 Axes>"
      ]
     },
     "metadata": {},
     "output_type": "display_data"
    }
   ],
   "source": [
    "# pathlib.Path(f'C:/projects/song_era_detection/audio_data_set/dataset/{g}').mkdir(parents=True, exist_ok=True)     \n",
    "# filename = os.listdir(f'C:/projects/song_era_detection/audio_data_set/dataset/{g}')[0]\n",
    "# songname = f'C:/projects/song_era_detection/audio_data_set/dataset/{g}/{filename}'\n",
    "# print(songname)\n",
    "# y, sr = librosa.load(songname, mono=True, duration=30)\n",
    "# plt.specgram(y, NFFT=2048, Fs=2, Fc=0, noverlap=128, cmap=cmap, sides='default', mode='default', scale='dB');\n",
    "# plt.axis('off');\n",
    "# plt.savefig(f'C:/projects/song_era_detection/audio_data_set/dataset/{g}/{filename[:].replace(\".\", \"\")}.png')\n",
    "# plt.clf()"
   ]
  },
  {
   "cell_type": "code",
   "execution_count": 26,
   "metadata": {},
   "outputs": [
    {
     "name": "stdout",
     "output_type": "stream",
     "text": [
      "C:/projects/song_era_detection/audio_data_set/dataset/filtered10s/2010's 1.wav\n",
      "filtered10s done!\n"
     ]
    },
    {
     "data": {
      "text/plain": [
       "<Figure size 432x288 with 0 Axes>"
      ]
     },
     "metadata": {},
     "output_type": "display_data"
    }
   ],
   "source": [
    "# g = 'filtered10s'\n",
    "# pathlib.Path(f'C:/projects/song_era_detection/audio_data_set/dataset/{g}').mkdir(parents=True, exist_ok=True)     \n",
    "# filename = os.listdir(f'C:/projects/song_era_detection/audio_data_set/dataset/{g}')[0]\n",
    "# songname = f'C:/projects/song_era_detection/audio_data_set/dataset/{g}/{filename}'\n",
    "# print(songname)\n",
    "# y , sr = librosa.load(songname, mono=True, duration=30)\n",
    "# spectogram = librosa.feature.melspectrogram(y=y, sr=sr, n_mels=128, n_fft=2048, hop_length=1024)\n",
    "# spectogram = librosa.power_to_db(spectogram, ref=np.max)\n",
    "# plt.axes().set_aspect('equal')\n",
    "# plt.imshow(spectogram, origin=\"lower\", cmap=cmap);\n",
    "# plt.axis('off');\n",
    "# plt.savefig(f'C:/projects/song_era_detection/audio_data_set/dataset/dataset_spectrogram/{filename[:].replace(\".\", \"\")}.png')\n",
    "# plt.clf()\n",
    "# print(f'{g} done!')"
   ]
  },
  {
   "cell_type": "code",
   "execution_count": null,
   "metadata": {},
   "outputs": [],
   "source": [
    "# plt.figure(figsize=(10,10))\n",
    "# plt.specgram(y, NFFT=2048, Fs=2, Fc=0, noverlap=128, cmap=cmap, sides='default', mode='default', scale='dB');\n",
    "# plt.axis('off');\n",
    "# plt.savefig('demo.png')"
   ]
  },
  {
   "cell_type": "code",
   "execution_count": 14,
   "metadata": {},
   "outputs": [
    {
     "data": {
      "text/plain": [
       "'filtered10s'"
      ]
     },
     "execution_count": 14,
     "metadata": {},
     "output_type": "execute_result"
    }
   ],
   "source": [
    "g"
   ]
  }
 ],
 "metadata": {
  "kernelspec": {
   "display_name": "Python 3",
   "language": "python",
   "name": "python3"
  },
  "language_info": {
   "codemirror_mode": {
    "name": "ipython",
    "version": 3
   },
   "file_extension": ".py",
   "mimetype": "text/x-python",
   "name": "python",
   "nbconvert_exporter": "python",
   "pygments_lexer": "ipython3",
   "version": "3.8.5"
  }
 },
 "nbformat": 4,
 "nbformat_minor": 4
}
